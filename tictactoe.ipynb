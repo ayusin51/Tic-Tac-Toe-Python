{
 "cells": [
  {
   "cell_type": "code",
   "execution_count": 1,
   "metadata": {
    "collapsed": true
   },
   "outputs": [],
   "source": [
    "# Tic Tac Toe game"
   ]
  },
  {
   "cell_type": "code",
   "execution_count": 2,
   "metadata": {
    "collapsed": true
   },
   "outputs": [],
   "source": [
    "from __future__ import print_function"
   ]
  },
  {
   "cell_type": "code",
   "execution_count": 29,
   "metadata": {
    "collapsed": true
   },
   "outputs": [],
   "source": [
    "from IPython.display import clear_output\n",
    "import os\n",
    "def display_board(board):\n",
    "    '''\n",
    "        Function to print the board.\n",
    "    '''\n",
    "    clear_output()\n",
    "    print(\"Player 1 : x \\t Player 2 : o\")\n",
    "    print (\"\\n\\n  {x}  |   {y}   |  {z}\".format(x = board[1], y = board[2], z = board[3]))\n",
    "    print (\"_____'_______'_____\")\n",
    "    print (\"     '       '     \")\n",
    "    print (\"  {x}  |   {y}   |  {z}\".format(x = board[4], y = board[5], z = board[6]))\n",
    "    print (\"_____'_______'_____\")\n",
    "    print (\"     '       '     \")\n",
    "    print (\"  {x}  |   {y}   |  {z}\\n\\n\".format(x = board[7], y = board[8], z = board[9]))\n",
    "    "
   ]
  },
  {
   "cell_type": "code",
   "execution_count": 54,
   "metadata": {
    "collapsed": true
   },
   "outputs": [],
   "source": [
    "\n",
    "def player_input():\n",
    "    '''\n",
    "        Function that can take in a player input\n",
    "        and assign their marker as x or o. \n",
    "    '''\n",
    "    inp = input(\"Enter your choice Player : \")\n",
    "    inp = inp.lower()\n",
    "    while (inp != 'x' and inp != 'o'):\n",
    "        inp = str(input(\"Enter valid option : \")).lower()\n",
    "    \n",
    "    if (inp == 'x'):\n",
    "        return ('x', 'o')\n",
    "    return ('o', 'x')\n",
    "    "
   ]
  },
  {
   "cell_type": "code",
   "execution_count": 55,
   "metadata": {
    "collapsed": true
   },
   "outputs": [],
   "source": [
    "def place_marker(board, marker, position):\n",
    "    '''\n",
    "        Function that takes, in the board list object,\n",
    "        a marker ('X' or 'O'),and a desired position\n",
    "        (number 1-9) and assigns it to the board.\n",
    "    '''\n",
    "    board[position] = marker"
   ]
  },
  {
   "cell_type": "code",
   "execution_count": 56,
   "metadata": {
    "collapsed": false
   },
   "outputs": [],
   "source": [
    "def win_check(board,mark):\n",
    "    '''\n",
    "        Function that takes in a board and a mark (X or O),\n",
    "        and then checks to see if that mark has won\n",
    "    '''\n",
    "    if (board[1] == board[2] == board[3] == mark or\n",
    "        board[4] == board[5] == board[6] == mark or\n",
    "        board[7] == board[8] == board[9] == mark or\n",
    "        board[1] == board[4] == board[7] == mark or\n",
    "        board[2] == board[5] == board[8] == mark or\n",
    "        board[3] == board[6] == board[9] == mark or\n",
    "        board[1] == board[5] == board[9] == mark or\n",
    "        board[3] == board[5] == board[7] == mark):\n",
    "        \n",
    "        return True\n",
    "    return False"
   ]
  },
  {
   "cell_type": "code",
   "execution_count": 57,
   "metadata": {
    "collapsed": true
   },
   "outputs": [],
   "source": [
    "import random\n",
    "def choose_first():\n",
    "    '''\n",
    "        Function that uses the random module\n",
    "        to randomly decide which player goes first. \n",
    "    '''\n",
    "    global player\n",
    "    player = random.randint(0, 1)"
   ]
  },
  {
   "cell_type": "code",
   "execution_count": 58,
   "metadata": {
    "collapsed": true
   },
   "outputs": [],
   "source": [
    "def space_check(board, position):\n",
    "    '''\n",
    "        Function that returns a boolean indicating\n",
    "        whether a space on the board is freely available.\n",
    "    '''\n",
    "    if (board[position] != 'x' and board[position] != 'o'):\n",
    "        return True\n",
    "    return False"
   ]
  },
  {
   "cell_type": "code",
   "execution_count": 59,
   "metadata": {
    "collapsed": true
   },
   "outputs": [],
   "source": [
    "def full_board_check(board):\n",
    "    '''\n",
    "        Function that checks if the board is full\n",
    "        and returns a boolean value. True if full,\n",
    "        False otherwise.\n",
    "    '''\n",
    "    for i in range(1, 10):\n",
    "        if(board[i] != 'x' and board[i] != 'o'):\n",
    "            return False\n",
    "    return True"
   ]
  },
  {
   "cell_type": "code",
   "execution_count": 64,
   "metadata": {
    "collapsed": true
   },
   "outputs": [],
   "source": [
    "def player_choice(board):\n",
    "    '''\n",
    "        Function that asks for a player's next position\n",
    "        (as a number 1-9) and then uses the space_check()\n",
    "        function to check if its a free position. If it is,\n",
    "        then return the position for later use.\n",
    "    '''\n",
    "    inp = int(input(\"Enter next position : \"))\n",
    "    while (inp not in range(1, 10) or not space_check(board, inp)):\n",
    "        inp = int(input(\"Enter valid position : \"))\n",
    "    if (space_check(board, inp)):\n",
    "        return inp\n",
    "    "
   ]
  },
  {
   "cell_type": "code",
   "execution_count": 65,
   "metadata": {
    "collapsed": true
   },
   "outputs": [],
   "source": [
    "def replay():\n",
    "    '''\n",
    "        Function that asks the player if they want to play\n",
    "        again and returns a boolean True if they do want\n",
    "        to play again.\n",
    "    '''\n",
    "    print (\"Do You Want To  Plain Again (y/n) : \")\n",
    "    inp = input()\n",
    "    if (inp == 'y'):\n",
    "        return True\n",
    "    return False"
   ]
  },
  {
   "cell_type": "code",
   "execution_count": null,
   "metadata": {
    "collapsed": false
   },
   "outputs": [
    {
     "name": "stdout",
     "output_type": "stream",
     "text": [
      "Player 1 : x \t Player 2 : o\n",
      "\n",
      "\n",
      "  o  |       |   \n",
      "_____'_______'_____\n",
      "     '       '     \n",
      "     |       |   \n",
      "_____'_______'_____\n",
      "     '       '     \n",
      "     |       |   \n",
      "\n",
      "\n",
      "Player 1 : \n"
     ]
    }
   ],
   "source": [
    "print('Welcome to Tic Tac Toe!')\n",
    "\n",
    "while True:\n",
    "    \n",
    "    Board = [' ']*10\n",
    "    player1_marker, player2_marker = player_input()\n",
    "    turn = choose_first()\n",
    "    print (\"Player \", turn, \" will go first\")\n",
    "    \n",
    "    game_on = True\n",
    "\n",
    "    while game_on:\n",
    "        #Player 1 Turn\n",
    "        print (\"Player 1 : {x}, Player 2 : {y}\".format(x = player1_marker, y = player2_marker))\n",
    "        if turn == 1:\n",
    "            display_board(Board)\n",
    "            print (\"Player 1 : \")\n",
    "            pos = player_choice(Board)\n",
    "            place_marker(Board, player1_marker, pos)\n",
    "            \n",
    "            if win_check(Board, player1_marker):\n",
    "                display_board(Board)\n",
    "                print(\"Congo Player 1, You won the game\")\n",
    "                game_on = False\n",
    "                \n",
    "            else :\n",
    "                if full_board_check(Board):\n",
    "                    display_board(Board)\n",
    "                    print (\"The game is drawww !!\")\n",
    "                else :\n",
    "                    turn = 2\n",
    "\n",
    "        else:\n",
    "            # Player2's turn.\n",
    "            display_board(Board)\n",
    "            print (\"Player 2 : \")\n",
    "            pos = player_choice(Board)\n",
    "            place_marker(Board, player2_marker, pos)\n",
    "            \n",
    "            if win_check(Board, player2_marker):\n",
    "                display_board(Board)\n",
    "                print(\"Congo Player 2, You won the game\")\n",
    "                game_on = False\n",
    "                \n",
    "            else :\n",
    "                if full_board_check(Board):\n",
    "                    display_board(Board)\n",
    "                    print (\"The game is drawww !!\")\n",
    "                else :\n",
    "                    turn = 1\n",
    "            \n",
    "            \n",
    "            \n",
    "\n",
    "    if not replay():\n",
    "        break"
   ]
  },
  {
   "cell_type": "code",
   "execution_count": null,
   "metadata": {
    "collapsed": false
   },
   "outputs": [],
   "source": []
  },
  {
   "cell_type": "code",
   "execution_count": null,
   "metadata": {
    "collapsed": true
   },
   "outputs": [],
   "source": []
  }
 ],
 "metadata": {
  "kernelspec": {
   "display_name": "Python [default]",
   "language": "python",
   "name": "python2"
  },
  "language_info": {
   "codemirror_mode": {
    "name": "ipython",
    "version": 2
   },
   "file_extension": ".py",
   "mimetype": "text/x-python",
   "name": "python",
   "nbconvert_exporter": "python",
   "pygments_lexer": "ipython2",
   "version": "2.7.12"
  }
 },
 "nbformat": 4,
 "nbformat_minor": 1
}
